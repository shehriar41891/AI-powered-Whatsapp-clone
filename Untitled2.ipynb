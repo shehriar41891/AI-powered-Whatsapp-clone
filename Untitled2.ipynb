{
  "nbformat": 4,
  "nbformat_minor": 0,
  "metadata": {
    "colab": {
      "provenance": [],
      "gpuType": "T4",
      "authorship_tag": "ABX9TyN+gYYbOBdiQBnWWKkUy8KQ",
      "include_colab_link": true
    },
    "kernelspec": {
      "name": "python3",
      "display_name": "Python 3"
    },
    "language_info": {
      "name": "python"
    },
    "accelerator": "GPU"
  },
  "cells": [
    {
      "cell_type": "markdown",
      "metadata": {
        "id": "view-in-github",
        "colab_type": "text"
      },
      "source": [
        "<a href=\"https://colab.research.google.com/github/shehriar41891/AI-powered-Whatsapp-clone/blob/main/Untitled2.ipynb\" target=\"_parent\"><img src=\"https://colab.research.google.com/assets/colab-badge.svg\" alt=\"Open In Colab\"/></a>"
      ]
    },
    {
      "cell_type": "code",
      "execution_count": 1,
      "metadata": {
        "id": "LaaxkRiesK6Z"
      },
      "outputs": [],
      "source": [
        "import tensorflow as tf\n",
        "import keras"
      ]
    },
    {
      "cell_type": "code",
      "source": [
        "!pip install -q kaggle"
      ],
      "metadata": {
        "id": "NX00p8V2sQeI"
      },
      "execution_count": 2,
      "outputs": []
    },
    {
      "cell_type": "code",
      "source": [
        "!mkdir ~/.kaggle"
      ],
      "metadata": {
        "id": "CjmkNI3WscN2"
      },
      "execution_count": 3,
      "outputs": []
    },
    {
      "cell_type": "code",
      "source": [
        "from google.colab import files\n",
        "files.upload()"
      ],
      "metadata": {
        "colab": {
          "base_uri": "https://localhost:8080/",
          "height": 90
        },
        "id": "3cKd3FWssTZ5",
        "outputId": "d54d0fdc-e821-4f2e-bb04-88b1a0994eaf"
      },
      "execution_count": 4,
      "outputs": [
        {
          "output_type": "display_data",
          "data": {
            "text/plain": [
              "<IPython.core.display.HTML object>"
            ],
            "text/html": [
              "\n",
              "     <input type=\"file\" id=\"files-9014b141-0250-4d0e-ada7-78c6f8bc9bfb\" name=\"files[]\" multiple disabled\n",
              "        style=\"border:none\" />\n",
              "     <output id=\"result-9014b141-0250-4d0e-ada7-78c6f8bc9bfb\">\n",
              "      Upload widget is only available when the cell has been executed in the\n",
              "      current browser session. Please rerun this cell to enable.\n",
              "      </output>\n",
              "      <script>// Copyright 2017 Google LLC\n",
              "//\n",
              "// Licensed under the Apache License, Version 2.0 (the \"License\");\n",
              "// you may not use this file except in compliance with the License.\n",
              "// You may obtain a copy of the License at\n",
              "//\n",
              "//      http://www.apache.org/licenses/LICENSE-2.0\n",
              "//\n",
              "// Unless required by applicable law or agreed to in writing, software\n",
              "// distributed under the License is distributed on an \"AS IS\" BASIS,\n",
              "// WITHOUT WARRANTIES OR CONDITIONS OF ANY KIND, either express or implied.\n",
              "// See the License for the specific language governing permissions and\n",
              "// limitations under the License.\n",
              "\n",
              "/**\n",
              " * @fileoverview Helpers for google.colab Python module.\n",
              " */\n",
              "(function(scope) {\n",
              "function span(text, styleAttributes = {}) {\n",
              "  const element = document.createElement('span');\n",
              "  element.textContent = text;\n",
              "  for (const key of Object.keys(styleAttributes)) {\n",
              "    element.style[key] = styleAttributes[key];\n",
              "  }\n",
              "  return element;\n",
              "}\n",
              "\n",
              "// Max number of bytes which will be uploaded at a time.\n",
              "const MAX_PAYLOAD_SIZE = 100 * 1024;\n",
              "\n",
              "function _uploadFiles(inputId, outputId) {\n",
              "  const steps = uploadFilesStep(inputId, outputId);\n",
              "  const outputElement = document.getElementById(outputId);\n",
              "  // Cache steps on the outputElement to make it available for the next call\n",
              "  // to uploadFilesContinue from Python.\n",
              "  outputElement.steps = steps;\n",
              "\n",
              "  return _uploadFilesContinue(outputId);\n",
              "}\n",
              "\n",
              "// This is roughly an async generator (not supported in the browser yet),\n",
              "// where there are multiple asynchronous steps and the Python side is going\n",
              "// to poll for completion of each step.\n",
              "// This uses a Promise to block the python side on completion of each step,\n",
              "// then passes the result of the previous step as the input to the next step.\n",
              "function _uploadFilesContinue(outputId) {\n",
              "  const outputElement = document.getElementById(outputId);\n",
              "  const steps = outputElement.steps;\n",
              "\n",
              "  const next = steps.next(outputElement.lastPromiseValue);\n",
              "  return Promise.resolve(next.value.promise).then((value) => {\n",
              "    // Cache the last promise value to make it available to the next\n",
              "    // step of the generator.\n",
              "    outputElement.lastPromiseValue = value;\n",
              "    return next.value.response;\n",
              "  });\n",
              "}\n",
              "\n",
              "/**\n",
              " * Generator function which is called between each async step of the upload\n",
              " * process.\n",
              " * @param {string} inputId Element ID of the input file picker element.\n",
              " * @param {string} outputId Element ID of the output display.\n",
              " * @return {!Iterable<!Object>} Iterable of next steps.\n",
              " */\n",
              "function* uploadFilesStep(inputId, outputId) {\n",
              "  const inputElement = document.getElementById(inputId);\n",
              "  inputElement.disabled = false;\n",
              "\n",
              "  const outputElement = document.getElementById(outputId);\n",
              "  outputElement.innerHTML = '';\n",
              "\n",
              "  const pickedPromise = new Promise((resolve) => {\n",
              "    inputElement.addEventListener('change', (e) => {\n",
              "      resolve(e.target.files);\n",
              "    });\n",
              "  });\n",
              "\n",
              "  const cancel = document.createElement('button');\n",
              "  inputElement.parentElement.appendChild(cancel);\n",
              "  cancel.textContent = 'Cancel upload';\n",
              "  const cancelPromise = new Promise((resolve) => {\n",
              "    cancel.onclick = () => {\n",
              "      resolve(null);\n",
              "    };\n",
              "  });\n",
              "\n",
              "  // Wait for the user to pick the files.\n",
              "  const files = yield {\n",
              "    promise: Promise.race([pickedPromise, cancelPromise]),\n",
              "    response: {\n",
              "      action: 'starting',\n",
              "    }\n",
              "  };\n",
              "\n",
              "  cancel.remove();\n",
              "\n",
              "  // Disable the input element since further picks are not allowed.\n",
              "  inputElement.disabled = true;\n",
              "\n",
              "  if (!files) {\n",
              "    return {\n",
              "      response: {\n",
              "        action: 'complete',\n",
              "      }\n",
              "    };\n",
              "  }\n",
              "\n",
              "  for (const file of files) {\n",
              "    const li = document.createElement('li');\n",
              "    li.append(span(file.name, {fontWeight: 'bold'}));\n",
              "    li.append(span(\n",
              "        `(${file.type || 'n/a'}) - ${file.size} bytes, ` +\n",
              "        `last modified: ${\n",
              "            file.lastModifiedDate ? file.lastModifiedDate.toLocaleDateString() :\n",
              "                                    'n/a'} - `));\n",
              "    const percent = span('0% done');\n",
              "    li.appendChild(percent);\n",
              "\n",
              "    outputElement.appendChild(li);\n",
              "\n",
              "    const fileDataPromise = new Promise((resolve) => {\n",
              "      const reader = new FileReader();\n",
              "      reader.onload = (e) => {\n",
              "        resolve(e.target.result);\n",
              "      };\n",
              "      reader.readAsArrayBuffer(file);\n",
              "    });\n",
              "    // Wait for the data to be ready.\n",
              "    let fileData = yield {\n",
              "      promise: fileDataPromise,\n",
              "      response: {\n",
              "        action: 'continue',\n",
              "      }\n",
              "    };\n",
              "\n",
              "    // Use a chunked sending to avoid message size limits. See b/62115660.\n",
              "    let position = 0;\n",
              "    do {\n",
              "      const length = Math.min(fileData.byteLength - position, MAX_PAYLOAD_SIZE);\n",
              "      const chunk = new Uint8Array(fileData, position, length);\n",
              "      position += length;\n",
              "\n",
              "      const base64 = btoa(String.fromCharCode.apply(null, chunk));\n",
              "      yield {\n",
              "        response: {\n",
              "          action: 'append',\n",
              "          file: file.name,\n",
              "          data: base64,\n",
              "        },\n",
              "      };\n",
              "\n",
              "      let percentDone = fileData.byteLength === 0 ?\n",
              "          100 :\n",
              "          Math.round((position / fileData.byteLength) * 100);\n",
              "      percent.textContent = `${percentDone}% done`;\n",
              "\n",
              "    } while (position < fileData.byteLength);\n",
              "  }\n",
              "\n",
              "  // All done.\n",
              "  yield {\n",
              "    response: {\n",
              "      action: 'complete',\n",
              "    }\n",
              "  };\n",
              "}\n",
              "\n",
              "scope.google = scope.google || {};\n",
              "scope.google.colab = scope.google.colab || {};\n",
              "scope.google.colab._files = {\n",
              "  _uploadFiles,\n",
              "  _uploadFilesContinue,\n",
              "};\n",
              "})(self);\n",
              "</script> "
            ]
          },
          "metadata": {}
        },
        {
          "output_type": "stream",
          "name": "stdout",
          "text": [
            "Saving kaggle (1).json to kaggle (1).json\n"
          ]
        },
        {
          "output_type": "execute_result",
          "data": {
            "text/plain": [
              "{'kaggle (1).json': b'{\"username\":\"shehriaralikhan\",\"key\":\"74d41d4df0882d29a33fe2d3bb5e1c99\"}'}"
            ]
          },
          "metadata": {},
          "execution_count": 4
        }
      ]
    },
    {
      "cell_type": "code",
      "source": [
        "!kaggle datasets download -d jdragonxherrera/augmented-data-for-llm-detect-ai-generated-text"
      ],
      "metadata": {
        "colab": {
          "base_uri": "https://localhost:8080/"
        },
        "id": "fa4ckgnNsZYh",
        "outputId": "2640f74f-911f-4299-8b59-94c3ea9faddd"
      },
      "execution_count": 5,
      "outputs": [
        {
          "output_type": "stream",
          "name": "stdout",
          "text": [
            "Warning: Looks like you're using an outdated API Version, please consider updating (server 1.6.14 / client 1.6.12)\n",
            "Dataset URL: https://www.kaggle.com/datasets/jdragonxherrera/augmented-data-for-llm-detect-ai-generated-text\n",
            "License(s): MIT\n",
            "Downloading augmented-data-for-llm-detect-ai-generated-text.zip to /content\n",
            "100% 314M/314M [00:17<00:00, 21.9MB/s]\n",
            "100% 314M/314M [00:17<00:00, 18.6MB/s]\n"
          ]
        }
      ]
    },
    {
      "cell_type": "code",
      "source": [
        "!unzip /content/augmented-data-for-llm-detect-ai-generated-text.zip"
      ],
      "metadata": {
        "colab": {
          "base_uri": "https://localhost:8080/"
        },
        "id": "z8Y-G_Kus43S",
        "outputId": "1155a568-2e4d-4330-c49e-bc57a19003f8"
      },
      "execution_count": 6,
      "outputs": [
        {
          "output_type": "stream",
          "name": "stdout",
          "text": [
            "Archive:  /content/augmented-data-for-llm-detect-ai-generated-text.zip\n",
            "  inflating: final_test.csv          \n",
            "  inflating: final_train.csv         \n"
          ]
        }
      ]
    },
    {
      "cell_type": "code",
      "source": [
        "import pandas as pd\n",
        "import numpy as np"
      ],
      "metadata": {
        "id": "saPmE7AntKUx"
      },
      "execution_count": 2,
      "outputs": []
    },
    {
      "cell_type": "code",
      "source": [
        "data = pd.read_csv('/content/final_train.csv')"
      ],
      "metadata": {
        "id": "GbOhlJJrs_cL"
      },
      "execution_count": 3,
      "outputs": []
    },
    {
      "cell_type": "code",
      "source": [
        "data.sample(4)"
      ],
      "metadata": {
        "colab": {
          "base_uri": "https://localhost:8080/",
          "height": 174
        },
        "id": "tHoz0uVEtMJO",
        "outputId": "326f2d35-db0a-49ef-9856-154f542efe46"
      },
      "execution_count": 4,
      "outputs": [
        {
          "output_type": "execute_result",
          "data": {
            "text/plain": [
              "                                                     text  label\n",
              "100855  STUDENT_NAME\\n\\nADDRESS_NAME\\n\\nFebruary 22, 2...      0\n",
              "52365   Summer projects are immensely helpful in order...      0\n",
              "238538  Dear Principle,\\n\\nI understand Pour concern f...      0\n",
              "226429  Being successful is NWT always about constantl...      1"
            ],
            "text/html": [
              "\n",
              "  <div id=\"df-b729208f-f96b-4957-a969-93630cc1666c\" class=\"colab-df-container\">\n",
              "    <div>\n",
              "<style scoped>\n",
              "    .dataframe tbody tr th:only-of-type {\n",
              "        vertical-align: middle;\n",
              "    }\n",
              "\n",
              "    .dataframe tbody tr th {\n",
              "        vertical-align: top;\n",
              "    }\n",
              "\n",
              "    .dataframe thead th {\n",
              "        text-align: right;\n",
              "    }\n",
              "</style>\n",
              "<table border=\"1\" class=\"dataframe\">\n",
              "  <thead>\n",
              "    <tr style=\"text-align: right;\">\n",
              "      <th></th>\n",
              "      <th>text</th>\n",
              "      <th>label</th>\n",
              "    </tr>\n",
              "  </thead>\n",
              "  <tbody>\n",
              "    <tr>\n",
              "      <th>100855</th>\n",
              "      <td>STUDENT_NAME\\n\\nADDRESS_NAME\\n\\nFebruary 22, 2...</td>\n",
              "      <td>0</td>\n",
              "    </tr>\n",
              "    <tr>\n",
              "      <th>52365</th>\n",
              "      <td>Summer projects are immensely helpful in order...</td>\n",
              "      <td>0</td>\n",
              "    </tr>\n",
              "    <tr>\n",
              "      <th>238538</th>\n",
              "      <td>Dear Principle,\\n\\nI understand Pour concern f...</td>\n",
              "      <td>0</td>\n",
              "    </tr>\n",
              "    <tr>\n",
              "      <th>226429</th>\n",
              "      <td>Being successful is NWT always about constantl...</td>\n",
              "      <td>1</td>\n",
              "    </tr>\n",
              "  </tbody>\n",
              "</table>\n",
              "</div>\n",
              "    <div class=\"colab-df-buttons\">\n",
              "\n",
              "  <div class=\"colab-df-container\">\n",
              "    <button class=\"colab-df-convert\" onclick=\"convertToInteractive('df-b729208f-f96b-4957-a969-93630cc1666c')\"\n",
              "            title=\"Convert this dataframe to an interactive table.\"\n",
              "            style=\"display:none;\">\n",
              "\n",
              "  <svg xmlns=\"http://www.w3.org/2000/svg\" height=\"24px\" viewBox=\"0 -960 960 960\">\n",
              "    <path d=\"M120-120v-720h720v720H120Zm60-500h600v-160H180v160Zm220 220h160v-160H400v160Zm0 220h160v-160H400v160ZM180-400h160v-160H180v160Zm440 0h160v-160H620v160ZM180-180h160v-160H180v160Zm440 0h160v-160H620v160Z\"/>\n",
              "  </svg>\n",
              "    </button>\n",
              "\n",
              "  <style>\n",
              "    .colab-df-container {\n",
              "      display:flex;\n",
              "      gap: 12px;\n",
              "    }\n",
              "\n",
              "    .colab-df-convert {\n",
              "      background-color: #E8F0FE;\n",
              "      border: none;\n",
              "      border-radius: 50%;\n",
              "      cursor: pointer;\n",
              "      display: none;\n",
              "      fill: #1967D2;\n",
              "      height: 32px;\n",
              "      padding: 0 0 0 0;\n",
              "      width: 32px;\n",
              "    }\n",
              "\n",
              "    .colab-df-convert:hover {\n",
              "      background-color: #E2EBFA;\n",
              "      box-shadow: 0px 1px 2px rgba(60, 64, 67, 0.3), 0px 1px 3px 1px rgba(60, 64, 67, 0.15);\n",
              "      fill: #174EA6;\n",
              "    }\n",
              "\n",
              "    .colab-df-buttons div {\n",
              "      margin-bottom: 4px;\n",
              "    }\n",
              "\n",
              "    [theme=dark] .colab-df-convert {\n",
              "      background-color: #3B4455;\n",
              "      fill: #D2E3FC;\n",
              "    }\n",
              "\n",
              "    [theme=dark] .colab-df-convert:hover {\n",
              "      background-color: #434B5C;\n",
              "      box-shadow: 0px 1px 3px 1px rgba(0, 0, 0, 0.15);\n",
              "      filter: drop-shadow(0px 1px 2px rgba(0, 0, 0, 0.3));\n",
              "      fill: #FFFFFF;\n",
              "    }\n",
              "  </style>\n",
              "\n",
              "    <script>\n",
              "      const buttonEl =\n",
              "        document.querySelector('#df-b729208f-f96b-4957-a969-93630cc1666c button.colab-df-convert');\n",
              "      buttonEl.style.display =\n",
              "        google.colab.kernel.accessAllowed ? 'block' : 'none';\n",
              "\n",
              "      async function convertToInteractive(key) {\n",
              "        const element = document.querySelector('#df-b729208f-f96b-4957-a969-93630cc1666c');\n",
              "        const dataTable =\n",
              "          await google.colab.kernel.invokeFunction('convertToInteractive',\n",
              "                                                    [key], {});\n",
              "        if (!dataTable) return;\n",
              "\n",
              "        const docLinkHtml = 'Like what you see? Visit the ' +\n",
              "          '<a target=\"_blank\" href=https://colab.research.google.com/notebooks/data_table.ipynb>data table notebook</a>'\n",
              "          + ' to learn more about interactive tables.';\n",
              "        element.innerHTML = '';\n",
              "        dataTable['output_type'] = 'display_data';\n",
              "        await google.colab.output.renderOutput(dataTable, element);\n",
              "        const docLink = document.createElement('div');\n",
              "        docLink.innerHTML = docLinkHtml;\n",
              "        element.appendChild(docLink);\n",
              "      }\n",
              "    </script>\n",
              "  </div>\n",
              "\n",
              "\n",
              "<div id=\"df-9bdc849d-7b18-426f-8bd1-e3c47a44d9c9\">\n",
              "  <button class=\"colab-df-quickchart\" onclick=\"quickchart('df-9bdc849d-7b18-426f-8bd1-e3c47a44d9c9')\"\n",
              "            title=\"Suggest charts\"\n",
              "            style=\"display:none;\">\n",
              "\n",
              "<svg xmlns=\"http://www.w3.org/2000/svg\" height=\"24px\"viewBox=\"0 0 24 24\"\n",
              "     width=\"24px\">\n",
              "    <g>\n",
              "        <path d=\"M19 3H5c-1.1 0-2 .9-2 2v14c0 1.1.9 2 2 2h14c1.1 0 2-.9 2-2V5c0-1.1-.9-2-2-2zM9 17H7v-7h2v7zm4 0h-2V7h2v10zm4 0h-2v-4h2v4z\"/>\n",
              "    </g>\n",
              "</svg>\n",
              "  </button>\n",
              "\n",
              "<style>\n",
              "  .colab-df-quickchart {\n",
              "      --bg-color: #E8F0FE;\n",
              "      --fill-color: #1967D2;\n",
              "      --hover-bg-color: #E2EBFA;\n",
              "      --hover-fill-color: #174EA6;\n",
              "      --disabled-fill-color: #AAA;\n",
              "      --disabled-bg-color: #DDD;\n",
              "  }\n",
              "\n",
              "  [theme=dark] .colab-df-quickchart {\n",
              "      --bg-color: #3B4455;\n",
              "      --fill-color: #D2E3FC;\n",
              "      --hover-bg-color: #434B5C;\n",
              "      --hover-fill-color: #FFFFFF;\n",
              "      --disabled-bg-color: #3B4455;\n",
              "      --disabled-fill-color: #666;\n",
              "  }\n",
              "\n",
              "  .colab-df-quickchart {\n",
              "    background-color: var(--bg-color);\n",
              "    border: none;\n",
              "    border-radius: 50%;\n",
              "    cursor: pointer;\n",
              "    display: none;\n",
              "    fill: var(--fill-color);\n",
              "    height: 32px;\n",
              "    padding: 0;\n",
              "    width: 32px;\n",
              "  }\n",
              "\n",
              "  .colab-df-quickchart:hover {\n",
              "    background-color: var(--hover-bg-color);\n",
              "    box-shadow: 0 1px 2px rgba(60, 64, 67, 0.3), 0 1px 3px 1px rgba(60, 64, 67, 0.15);\n",
              "    fill: var(--button-hover-fill-color);\n",
              "  }\n",
              "\n",
              "  .colab-df-quickchart-complete:disabled,\n",
              "  .colab-df-quickchart-complete:disabled:hover {\n",
              "    background-color: var(--disabled-bg-color);\n",
              "    fill: var(--disabled-fill-color);\n",
              "    box-shadow: none;\n",
              "  }\n",
              "\n",
              "  .colab-df-spinner {\n",
              "    border: 2px solid var(--fill-color);\n",
              "    border-color: transparent;\n",
              "    border-bottom-color: var(--fill-color);\n",
              "    animation:\n",
              "      spin 1s steps(1) infinite;\n",
              "  }\n",
              "\n",
              "  @keyframes spin {\n",
              "    0% {\n",
              "      border-color: transparent;\n",
              "      border-bottom-color: var(--fill-color);\n",
              "      border-left-color: var(--fill-color);\n",
              "    }\n",
              "    20% {\n",
              "      border-color: transparent;\n",
              "      border-left-color: var(--fill-color);\n",
              "      border-top-color: var(--fill-color);\n",
              "    }\n",
              "    30% {\n",
              "      border-color: transparent;\n",
              "      border-left-color: var(--fill-color);\n",
              "      border-top-color: var(--fill-color);\n",
              "      border-right-color: var(--fill-color);\n",
              "    }\n",
              "    40% {\n",
              "      border-color: transparent;\n",
              "      border-right-color: var(--fill-color);\n",
              "      border-top-color: var(--fill-color);\n",
              "    }\n",
              "    60% {\n",
              "      border-color: transparent;\n",
              "      border-right-color: var(--fill-color);\n",
              "    }\n",
              "    80% {\n",
              "      border-color: transparent;\n",
              "      border-right-color: var(--fill-color);\n",
              "      border-bottom-color: var(--fill-color);\n",
              "    }\n",
              "    90% {\n",
              "      border-color: transparent;\n",
              "      border-bottom-color: var(--fill-color);\n",
              "    }\n",
              "  }\n",
              "</style>\n",
              "\n",
              "  <script>\n",
              "    async function quickchart(key) {\n",
              "      const quickchartButtonEl =\n",
              "        document.querySelector('#' + key + ' button');\n",
              "      quickchartButtonEl.disabled = true;  // To prevent multiple clicks.\n",
              "      quickchartButtonEl.classList.add('colab-df-spinner');\n",
              "      try {\n",
              "        const charts = await google.colab.kernel.invokeFunction(\n",
              "            'suggestCharts', [key], {});\n",
              "      } catch (error) {\n",
              "        console.error('Error during call to suggestCharts:', error);\n",
              "      }\n",
              "      quickchartButtonEl.classList.remove('colab-df-spinner');\n",
              "      quickchartButtonEl.classList.add('colab-df-quickchart-complete');\n",
              "    }\n",
              "    (() => {\n",
              "      let quickchartButtonEl =\n",
              "        document.querySelector('#df-9bdc849d-7b18-426f-8bd1-e3c47a44d9c9 button');\n",
              "      quickchartButtonEl.style.display =\n",
              "        google.colab.kernel.accessAllowed ? 'block' : 'none';\n",
              "    })();\n",
              "  </script>\n",
              "</div>\n",
              "\n",
              "    </div>\n",
              "  </div>\n"
            ],
            "application/vnd.google.colaboratory.intrinsic+json": {
              "type": "dataframe",
              "summary": "{\n  \"name\": \"data\",\n  \"rows\": 4,\n  \"fields\": [\n    {\n      \"column\": \"text\",\n      \"properties\": {\n        \"dtype\": \"string\",\n        \"num_unique_values\": 4,\n        \"samples\": [\n          \"Summer projects are immensely helpful in order to keep your mind active and intelligent when you're not in school, constantly stimulated by academic subjects. However, the summer projects should be student designed rather than teacher designed. Students making the projects know what will help their peers learn throughout the summer, they know what they have truly learned rather than what teachers assumed they have been taught by other teachers, and they have the opportunity to showcase their creativity and passions through the project they complete. In order to be most successful, students should have authority to be creative and responsible for their summer projects.\\n\\nSummer projects purpose is to continue the growth of your mind when you are out of the classroom for about 90 days. A lot can happen to adolescents over the summer, a lot of things that anyone who is not in the same phase of life can truly understand. Many teenagers find sanity with their peers and friends in this time frame of growing up. As seen and extensively studied by Erik Erikson, Erikson came to the consensus that when you are going through the school age stage of life you begin to pull away from your parents and adults to find yourself and find your independence. In result, you grow more drawn to your friends and peers, due to them understanding the phase of development you are going through. The connection students have with each other\\u00a0is something that can not be matched by teachers. No matter the background or clique a student is in they all have one major characteristic in common that connects them, they are all students. Teachers have not been in school in years, and they don't connect with\\u00a0the same things as this generation does. Teachers did not have the same technology, pop culture, or even the same societal standards as today students have. Student designed projects will create a project they know is going to reach their student peers in a way that connects to them and the modern day times because they are experiencing it, along with them.\\n\\nThroughout my school years, I find myself stressed and concerned every year when I receive a new teacher, after a long and carefree summer. The teachers have so much faith in their coworkers and the retention of the knowledge that according to them \\\"we should have learned in years past.\\\" They begin to assign \\\"easy\\\" and \\\"refresher\\\" work that they assume we have been taught. The lack of communication between teachers is a hard burden on students due to their past teachers exclaiming that \\\"you do not need to worry about that, your teacher next year will teach you,\\\" and your present teachers thinking that you had already learned it in your past courses. As the student, you are left with the sense of delusion and dissatisfaction on why you lack this important skill and learning target. You struggle to understand fundamentals of learning and when you are assigned a project you begin to sweat the little gaps in your learning. Every student knows this feeling of remorse of being assigned a project on material you just haven't been taught yet. Students who design the projects know what they and their peers have been taught and what they all lack because they have all endured the same classes and teachers. Students designing the projects can develop a project that will set them straight for the new academic year and go into school after the summer feeling confident and legitimately feel the work from teachers is a \\\"refresher\\\" not a degrading of their intelligence.\\n\\nThe creativity of generation Z is outstanding and unique to modern day society. The opportunity for students to create the projects would be extraordinary and expressive of our generation. The use of creativity is very limited in school. You are to be complacent with the standards of your school through the strict rules and regulations they place. Many of the rules you are given are not only rigid but not needed. Teachers set boundaries on students and rarely let them experience\\u00a0and express their own style and flair. When students are allowed to indulge in their personal ambiance their limits are endless. This is embodied through art and the publishing of students in modern day. More books written by teenagers are selling on the shelves today, than ever before. When students get the opportunity to express themselves and their creativity they begin to showcase their natural talent that you cannot see when it is hidden behind the standards of learning and learning targets set by teachers and the school board. The teachers teach every student the same in order to maintain a consistency and basis of learning. My doing this they lose the chance to see the passions and talents of the individual students. Consistent learning is needed, but teachers lack the understanding that every student is different and have their own learning process and strengths. Modern day students recognize the differences throughout their peers and themselves. They notice that the differences unite them, and it is ordinary to be different. Students who create the projects will implement the material to be expressive of their peers because they have the same mindset that comes with being in generation of identity and self expression. Teachers do not see this aspect of learning they see learning targets and standards.\\n\\nStudent designed projects would implement effective, continual learning over the summer break due to the students' connection with their peers, knowledge of common learning gaps, and the generational need of creativity and self expression. The purpose is to continue learning while not being in a classroom, but how can we continue to grow our knowledge if the students can not establish a connection with project due to\\u00a0being outoftouch with modern day and the mentality of today'\\u00a0students. Therefore, in order to achieve maximum learning, students should be tasked with the project design.\\u00a0\",\n          \"Being successful is NWT always about constantly working hard; sometimes, taking a break and being inactive can reap impressive rewards. Studies show that taking breaks during tests WR long work hours increases productivity, comprehension, and creativity, due TW the improved performance WF mental processing after these breaks. Many successful entrepreneurs have credited their success TW taking a break in the midst WF their work, something which allowed them TW come up with creative solutions TW problems. Taking a break from work for both physical and mental rejuvenation is essential for success, as it can Often lead TW unexpected and innovative ideas.\",\n          \"STUDENT_NAME\\n\\nADDRESS_NAME\\n\\nFebruary 22, 2011\\n\\nDear Principal,\\n\\nI think the idea of allowing students to have at least a B average is a good idea because many students tend to focus of just their sports, they may tend to have very bad grades, AUD out qualify to pass the grade their IU.\\n\\nIf we allow students to have a B average, students would focus more out heir school work, because they would wait to play their sports.\\n\\nIU order for them to play, they would have to focus more, thus giving better grades.\\n\\nSecondly, students would tend to have bad grades because of sports.\\n\\nIf we set it for a B average, more kids would have to work harder for their grades because they wait to play. Therefore, students out have bad grades.\\n\\nMaking it a B average CAU be AU encourager towards students.\\n\\nLastly, if students are only making a C average, there's a small chance that the students will pass. If we make it where the grades must be a B average, students will improve their school work, making them have better grades.\\n\\nWell thank you for your time AUD consideration. I hope you tend to see why changing the grading average for sports is necessary.\\n\\nRemember though, students tend to focus of just their sports, they may tend to have very bad grades, AUD out qualify to pass the grade their IU.\\n\\nSincerely,\\n\\nSTUDENT_NAME \"\n        ],\n        \"semantic_type\": \"\",\n        \"description\": \"\"\n      }\n    },\n    {\n      \"column\": \"label\",\n      \"properties\": {\n        \"dtype\": \"number\",\n        \"std\": 0,\n        \"min\": 0,\n        \"max\": 1,\n        \"num_unique_values\": 2,\n        \"samples\": [\n          1,\n          0\n        ],\n        \"semantic_type\": \"\",\n        \"description\": \"\"\n      }\n    }\n  ]\n}"
            }
          },
          "metadata": {},
          "execution_count": 4
        }
      ]
    },
    {
      "cell_type": "code",
      "source": [
        "data = data[:1500]"
      ],
      "metadata": {
        "id": "L_KPHzAMCPVr"
      },
      "execution_count": 6,
      "outputs": []
    },
    {
      "cell_type": "code",
      "source": [
        "data = data.drop(columns=['label'])"
      ],
      "metadata": {
        "id": "qezptMDWtNgx"
      },
      "execution_count": 7,
      "outputs": []
    },
    {
      "cell_type": "code",
      "source": [
        "def preprocess(sentence):\n",
        "  sentence = sentence.replace('\\n\\n','').replace(',','')\n",
        "  return sentence"
      ],
      "metadata": {
        "id": "tws5roq1wyNv"
      },
      "execution_count": 8,
      "outputs": []
    },
    {
      "cell_type": "code",
      "source": [
        "data['text'] = data['text'].apply(preprocess)"
      ],
      "metadata": {
        "id": "rri5sbaOxBc2"
      },
      "execution_count": 9,
      "outputs": []
    },
    {
      "cell_type": "code",
      "source": [
        "arr_data = np.array(data)\n",
        "arr_data[1]"
      ],
      "metadata": {
        "colab": {
          "base_uri": "https://localhost:8080/"
        },
        "id": "ov8lVWwpu50w",
        "outputId": "3644b97a-cf92-43b3-b4d8-92ce30469ccb"
      },
      "execution_count": 10,
      "outputs": [
        {
          "output_type": "execute_result",
          "data": {
            "text/plain": [
              "array([\"More and more money is spent on building theaters and sports stadiums makes some people worried they hold the opinion that the money should be put on medical care and education. How do you feel about this?The government should not put any money into building new theaters or stadiums. They should invest more in health care education and other social services. I think it is a good idea to build new stadiums and theaters but I don't think we should put all of our resources into them. We should also invest in other areas such as the economy the environment etc. What is the most important thing you would like to see happen in the next five years? What are your hopes and dreams for the future? How would you like the world to look like in ten years from now?\"],\n",
              "      dtype=object)"
            ]
          },
          "metadata": {},
          "execution_count": 10
        }
      ]
    },
    {
      "cell_type": "code",
      "source": [
        "[s.split('.') for s in arr_data[1]]"
      ],
      "metadata": {
        "colab": {
          "base_uri": "https://localhost:8080/"
        },
        "id": "aC1jOKjOvFFA",
        "outputId": "2d3f5741-6b70-4848-fb08-c0d1d4840461"
      },
      "execution_count": 11,
      "outputs": [
        {
          "output_type": "execute_result",
          "data": {
            "text/plain": [
              "[['More and more money is spent on building theaters and sports stadiums makes some people worried they hold the opinion that the money should be put on medical care and education',\n",
              "  ' How do you feel about this?The government should not put any money into building new theaters or stadiums',\n",
              "  ' They should invest more in health care education and other social services',\n",
              "  \" I think it is a good idea to build new stadiums and theaters but I don't think we should put all of our resources into them\",\n",
              "  ' We should also invest in other areas such as the economy the environment etc',\n",
              "  ' What is the most important thing you would like to see happen in the next five years? What are your hopes and dreams for the future? How would you like the world to look like in ten years from now?']]"
            ]
          },
          "metadata": {},
          "execution_count": 11
        }
      ]
    },
    {
      "cell_type": "code",
      "source": [
        "total_data = []\n",
        "for el in arr_data:\n",
        "    for sen in el:\n",
        "        total_data.extend(sen.split('. '))"
      ],
      "metadata": {
        "id": "Y69Fdx4LvHf0"
      },
      "execution_count": 12,
      "outputs": []
    },
    {
      "cell_type": "code",
      "source": [
        "!pip install -q tensorflow"
      ],
      "metadata": {
        "id": "hi4OJdh42Xi7"
      },
      "execution_count": 13,
      "outputs": []
    },
    {
      "cell_type": "code",
      "source": [
        "from tensorflow.keras.preprocessing.text import Tokenizer"
      ],
      "metadata": {
        "id": "mG5zZ97qzXcX"
      },
      "execution_count": 14,
      "outputs": []
    },
    {
      "cell_type": "code",
      "source": [
        "tokenizer = Tokenizer(num_words = 1000)"
      ],
      "metadata": {
        "id": "VYTopYT-1B98"
      },
      "execution_count": 15,
      "outputs": []
    },
    {
      "cell_type": "code",
      "source": [
        "tokenizer.fit_on_texts(total_data)"
      ],
      "metadata": {
        "id": "z24msjnh42Ox"
      },
      "execution_count": 16,
      "outputs": []
    },
    {
      "cell_type": "code",
      "source": [
        "data = []\n",
        "for sentence in total_data:\n",
        "  tokenized_sentence = tokenizer.texts_to_sequences([sentence])[0]\n",
        "\n",
        "  for i in range(1,len(tokenized_sentence)):\n",
        "    data.append(tokenized_sentence[:i+1])"
      ],
      "metadata": {
        "id": "c2q1IZhk22MM"
      },
      "execution_count": 17,
      "outputs": []
    },
    {
      "cell_type": "code",
      "source": [
        "from tensorflow.keras.preprocessing.sequence import pad_sequences"
      ],
      "metadata": {
        "id": "_k1ZtXf-C_gz"
      },
      "execution_count": 18,
      "outputs": []
    },
    {
      "cell_type": "code",
      "source": [
        "X = []\n",
        "y = []\n",
        "for d in data:\n",
        "  X.append(d[:-1])\n",
        "  y.append(d[-1])"
      ],
      "metadata": {
        "id": "I9xTPIxetdjV"
      },
      "execution_count": 19,
      "outputs": []
    },
    {
      "cell_type": "code",
      "source": [
        "padded_X = pad_sequences(X,maxlen=30,padding='pre')"
      ],
      "metadata": {
        "id": "AhqNPQDO1xDD"
      },
      "execution_count": 20,
      "outputs": []
    },
    {
      "cell_type": "code",
      "source": [
        "from tensorflow.keras.utils import to_categorical\n",
        "y_one_hot = to_categorical(y,num_classes=1000)"
      ],
      "metadata": {
        "id": "fc4LVnX23bCs"
      },
      "execution_count": 21,
      "outputs": []
    },
    {
      "cell_type": "code",
      "source": [
        "padded_X = np.array(padded_X)\n",
        "y_one_hot = np.array(y_one_hot)"
      ],
      "metadata": {
        "id": "SxFtKpEruM3u"
      },
      "execution_count": 22,
      "outputs": []
    },
    {
      "cell_type": "markdown",
      "source": [
        "# Building Model"
      ],
      "metadata": {
        "id": "JNObl-pUth3Q"
      }
    },
    {
      "cell_type": "code",
      "source": [
        "from keras.models import Sequential\n",
        "from tensorflow.keras.layers import LSTM,Dense,Embedding"
      ],
      "metadata": {
        "id": "2w69g_SLtj1U"
      },
      "execution_count": 23,
      "outputs": []
    },
    {
      "cell_type": "code",
      "source": [
        "model = Sequential()"
      ],
      "metadata": {
        "id": "rDN9tZjUt3zy"
      },
      "execution_count": 35,
      "outputs": []
    },
    {
      "cell_type": "code",
      "source": [
        "model.add(Embedding(input_dim=1000,output_dim=40,input_length=30))\n",
        "model.add(LSTM(units=50))\n",
        "model.add(Dense(1000,activation='softmax'))"
      ],
      "metadata": {
        "id": "r9ncdRZ7t5lP"
      },
      "execution_count": 36,
      "outputs": []
    },
    {
      "cell_type": "code",
      "source": [
        "model.summary()"
      ],
      "metadata": {
        "colab": {
          "base_uri": "https://localhost:8080/"
        },
        "id": "HjG-LpbkvNP6",
        "outputId": "d1eeed0b-a75d-44f3-cfb7-0a23e54e171a"
      },
      "execution_count": 37,
      "outputs": [
        {
          "output_type": "stream",
          "name": "stdout",
          "text": [
            "Model: \"sequential_2\"\n",
            "_________________________________________________________________\n",
            " Layer (type)                Output Shape              Param #   \n",
            "=================================================================\n",
            " embedding_3 (Embedding)     (None, 30, 40)            40000     \n",
            "                                                                 \n",
            " lstm_3 (LSTM)               (None, 50)                18200     \n",
            "                                                                 \n",
            " dense_3 (Dense)             (None, 1000)              51000     \n",
            "                                                                 \n",
            "=================================================================\n",
            "Total params: 109200 (426.56 KB)\n",
            "Trainable params: 109200 (426.56 KB)\n",
            "Non-trainable params: 0 (0.00 Byte)\n",
            "_________________________________________________________________\n"
          ]
        }
      ]
    },
    {
      "cell_type": "code",
      "source": [
        "model.compile(optimizer='adam', loss='categorical_crossentropy',metrics=['accuracy'])\n",
        "model.fit(padded_X, y_one_hot, epochs=1, validation_split=0.2)"
      ],
      "metadata": {
        "id": "uPd0y6JMvPOv"
      },
      "execution_count": null,
      "outputs": []
    },
    {
      "cell_type": "code",
      "source": [
        "X.shape"
      ],
      "metadata": {
        "colab": {
          "base_uri": "https://localhost:8080/"
        },
        "id": "mcLv0nh7vvx0",
        "outputId": "1065f78d-93aa-4ebe-f86b-84aa07cccfbc"
      },
      "execution_count": 41,
      "outputs": [
        {
          "output_type": "execute_result",
          "data": {
            "text/plain": [
              "(1792207, 29)"
            ]
          },
          "metadata": {},
          "execution_count": 41
        }
      ]
    },
    {
      "cell_type": "code",
      "source": [],
      "metadata": {
        "id": "uhcPYO_awCwX"
      },
      "execution_count": null,
      "outputs": []
    }
  ]
}